{
  "nbformat": 4,
  "nbformat_minor": 0,
  "metadata": {
    "colab": {
      "name": "PROJECT.ipynb",
      "provenance": [],
      "authorship_tag": "ABX9TyNeN+jmM0BABVX9hBVray37",
      "include_colab_link": true
    },
    "kernelspec": {
      "name": "python3",
      "display_name": "Python 3"
    },
    "language_info": {
      "name": "python"
    }
  },
  "cells": [
    {
      "cell_type": "markdown",
      "metadata": {
        "id": "view-in-github",
        "colab_type": "text"
      },
      "source": [
        "<a href=\"https://colab.research.google.com/github/samim27/ETG-ML-AI--INTERNSHIP-BASED-INVENTORY-PROJECT/blob/main/PROJECT.ipynb\" target=\"_parent\"><img src=\"https://colab.research.google.com/assets/colab-badge.svg\" alt=\"Open In Colab\"/></a>"
      ]
    },
    {
      "cell_type": "code",
      "metadata": {
        "id": "M3wBAvJq4zsj"
      },
      "source": [
        "import pandas as pd\n",
        "import json"
      ],
      "execution_count": 1,
      "outputs": []
    },
    {
      "cell_type": "code",
      "metadata": {
        "id": "COWjbem15Ch3"
      },
      "source": [
        "fd=open(\"record.json\",'r')\n",
        "r=fd.read()\n",
        "fd.close()\n",
        "record=json.loads(r)"
      ],
      "execution_count": 2,
      "outputs": []
    },
    {
      "cell_type": "code",
      "metadata": {
        "colab": {
          "base_uri": "https://localhost:8080/"
        },
        "id": "RzzgYEPI5UTK",
        "outputId": "62382d61-4e37-4d40-d5c0-758f3480f615"
      },
      "source": [
        "record"
      ],
      "execution_count": 3,
      "outputs": [
        {
          "output_type": "execute_result",
          "data": {
            "text/plain": [
              "{'1001': {'name': 'sugar', 'pr': 100, 'qn': 34},\n",
              " '1002': {'name': 'teapowder', 'pr': 800, 'qn': 100},\n",
              " '1003': {'name': 'Dal', 'pr': 85, 'qn': 100},\n",
              " '1004': {'name': 'Moog', 'pr': 5, 'qn': 1000},\n",
              " '1005': {'name': 'wheat', 'pr': 20, 'qn': 100},\n",
              " '1006': {'name': 'paddy', 'pr': 50000, 'qn': 10},\n",
              " '1007': {'name': 'Jowar', 'pr': 1500, 'qn': 110},\n",
              " '1008': {'name': 'Agarbatti', 'pr': 599, 'qn': 5},\n",
              " '1009': {'name': 'rin soap', 'pr': 18, 'qn': 10},\n",
              " '1010': {'name': 'powder', 'pr': 133, 'qn': 9},\n",
              " '1011': {'name': 'pickle', 'pr': 189, 'qn': 7},\n",
              " '1012': {'name': 'brush', 'pr': 139, 'qn': 22},\n",
              " '1013': {'name': 'Flour', 'pr': 1923, 'qn': 120},\n",
              " '1014': {'name': 'Santoor soap', 'pr': 18, 'qn': 110},\n",
              " '1015': {'name': 'Lux soap', 'pr': 169, 'qn': 130},\n",
              " '1016': {'name': 'Neem soap', 'pr': 189, 'qn': 120},\n",
              " '1017': {'name': 'Green dal soap', 'pr': 199, 'qn': 1},\n",
              " '1018': {'name': 'Chilli powder', 'pr': 10, 'qn': 1},\n",
              " '1019': {'name': 'Lays', 'pr': 88, 'qn': 8},\n",
              " '1020': {'name': 'Kukure', 'pr': 889, 'qn': 90},\n",
              " '1021': {'name': 'Chik shampoo', 'pr': 1799, 'qn': 99},\n",
              " '1022': {'name': 'Dove shampoo', 'pr': 1679, 'qn': 10},\n",
              " '1023': {'name': 'Lemon rice powder', 'pr': 1779, 'qn': 9},\n",
              " '1024': {'name': 'Sunsilk', 'pr': 1999, 'qn': 33},\n",
              " '1025': {'name': 'cashew nut', 'pr': 134, 'qn': 5},\n",
              " '1026': {'name': 'badam', 'pr': 132, 'qn': 3},\n",
              " '1027': {'name': 'Pista', 'pr': 134, 'qn': 9},\n",
              " '1028': {'name': 'Pasta', 'pr': 198, 'qn': 3},\n",
              " '1029': {'name': 'soft drinks', 'pr': 197, 'qn': 3},\n",
              " '1030': {'name': 'Chocolate pack', 'pr': 199, 'qn': 1},\n",
              " '1032': {'name': '5-star', 'pr': 5, 'qn': 10}}"
            ]
          },
          "metadata": {},
          "execution_count": 3
        }
      ]
    },
    {
      "cell_type": "code",
      "metadata": {
        "colab": {
          "base_uri": "https://localhost:8080/"
        },
        "id": "17z23Zr75Z-U",
        "outputId": "7a129d94-7af3-422e-e41c-52cdfb403c09"
      },
      "source": [
        "prod_id = str(input(\"Enter product id:\"))\n",
        "name = str(input(\"Enter name:\"))\n",
        "pr = int(input(\"Enter price:\"))\n",
        "qn = int(input(\"Enter quantity:\"))\n",
        "\n",
        "record[prod_id] = {'name': name, 'pr': pr, 'qn': qn}\n",
        "\n",
        "js = json.dumps(record)\n",
        "\n",
        "fd = open(\"record.json\",'w')\n",
        "fd.write(js)\n",
        "fd.close()"
      ],
      "execution_count": 4,
      "outputs": [
        {
          "name": "stdout",
          "output_type": "stream",
          "text": [
            "Enter product id:1033\n",
            "Enter name:Snickers\n",
            "Enter price:10\n",
            "Enter quantity:5\n"
          ]
        }
      ]
    },
    {
      "cell_type": "code",
      "metadata": {
        "colab": {
          "base_uri": "https://localhost:8080/"
        },
        "id": "_BUK7Nzc5w40",
        "outputId": "155b4cc8-ab69-4f05-eda2-ce01fe948e9a"
      },
      "source": [
        "record"
      ],
      "execution_count": 5,
      "outputs": [
        {
          "output_type": "execute_result",
          "data": {
            "text/plain": [
              "{'1001': {'name': 'sugar', 'pr': 100, 'qn': 34},\n",
              " '1002': {'name': 'teapowder', 'pr': 800, 'qn': 100},\n",
              " '1003': {'name': 'Dal', 'pr': 85, 'qn': 100},\n",
              " '1004': {'name': 'Moog', 'pr': 5, 'qn': 1000},\n",
              " '1005': {'name': 'wheat', 'pr': 20, 'qn': 100},\n",
              " '1006': {'name': 'paddy', 'pr': 50000, 'qn': 10},\n",
              " '1007': {'name': 'Jowar', 'pr': 1500, 'qn': 110},\n",
              " '1008': {'name': 'Agarbatti', 'pr': 599, 'qn': 5},\n",
              " '1009': {'name': 'rin soap', 'pr': 18, 'qn': 10},\n",
              " '1010': {'name': 'powder', 'pr': 133, 'qn': 9},\n",
              " '1011': {'name': 'pickle', 'pr': 189, 'qn': 7},\n",
              " '1012': {'name': 'brush', 'pr': 139, 'qn': 22},\n",
              " '1013': {'name': 'Flour', 'pr': 1923, 'qn': 120},\n",
              " '1014': {'name': 'Santoor soap', 'pr': 18, 'qn': 110},\n",
              " '1015': {'name': 'Lux soap', 'pr': 169, 'qn': 130},\n",
              " '1016': {'name': 'Neem soap', 'pr': 189, 'qn': 120},\n",
              " '1017': {'name': 'Green dal soap', 'pr': 199, 'qn': 1},\n",
              " '1018': {'name': 'Chilli powder', 'pr': 10, 'qn': 1},\n",
              " '1019': {'name': 'Lays', 'pr': 88, 'qn': 8},\n",
              " '1020': {'name': 'Kukure', 'pr': 889, 'qn': 90},\n",
              " '1021': {'name': 'Chik shampoo', 'pr': 1799, 'qn': 99},\n",
              " '1022': {'name': 'Dove shampoo', 'pr': 1679, 'qn': 10},\n",
              " '1023': {'name': 'Lemon rice powder', 'pr': 1779, 'qn': 9},\n",
              " '1024': {'name': 'Sunsilk', 'pr': 1999, 'qn': 33},\n",
              " '1025': {'name': 'cashew nut', 'pr': 134, 'qn': 5},\n",
              " '1026': {'name': 'badam', 'pr': 132, 'qn': 3},\n",
              " '1027': {'name': 'Pista', 'pr': 134, 'qn': 9},\n",
              " '1028': {'name': 'Pasta', 'pr': 198, 'qn': 3},\n",
              " '1029': {'name': 'soft drinks', 'pr': 197, 'qn': 3},\n",
              " '1030': {'name': 'Chocolate pack', 'pr': 199, 'qn': 1},\n",
              " '1032': {'name': '5-star', 'pr': 5, 'qn': 10},\n",
              " '1033': {'name': 'Snickers', 'pr': 10, 'qn': 5}}"
            ]
          },
          "metadata": {},
          "execution_count": 5
        }
      ]
    },
    {
      "cell_type": "code",
      "metadata": {
        "colab": {
          "base_uri": "https://localhost:8080/"
        },
        "id": "IlRDOjeO6Bq1",
        "outputId": "4a82217d-7bef-4eb3-d64f-2503e9e0c93a"
      },
      "source": [
        "n=input(\"enter what you want to delete\")\n",
        "del record[n]"
      ],
      "execution_count": 6,
      "outputs": [
        {
          "name": "stdout",
          "output_type": "stream",
          "text": [
            "enter what you want to delete1033\n"
          ]
        }
      ]
    },
    {
      "cell_type": "code",
      "metadata": {
        "colab": {
          "base_uri": "https://localhost:8080/"
        },
        "id": "56Rdcw0N6INZ",
        "outputId": "5c8d535d-75d7-4cd6-abea-80f67f25a8fc"
      },
      "source": [
        "record"
      ],
      "execution_count": 7,
      "outputs": [
        {
          "output_type": "execute_result",
          "data": {
            "text/plain": [
              "{'1001': {'name': 'sugar', 'pr': 100, 'qn': 34},\n",
              " '1002': {'name': 'teapowder', 'pr': 800, 'qn': 100},\n",
              " '1003': {'name': 'Dal', 'pr': 85, 'qn': 100},\n",
              " '1004': {'name': 'Moog', 'pr': 5, 'qn': 1000},\n",
              " '1005': {'name': 'wheat', 'pr': 20, 'qn': 100},\n",
              " '1006': {'name': 'paddy', 'pr': 50000, 'qn': 10},\n",
              " '1007': {'name': 'Jowar', 'pr': 1500, 'qn': 110},\n",
              " '1008': {'name': 'Agarbatti', 'pr': 599, 'qn': 5},\n",
              " '1009': {'name': 'rin soap', 'pr': 18, 'qn': 10},\n",
              " '1010': {'name': 'powder', 'pr': 133, 'qn': 9},\n",
              " '1011': {'name': 'pickle', 'pr': 189, 'qn': 7},\n",
              " '1012': {'name': 'brush', 'pr': 139, 'qn': 22},\n",
              " '1013': {'name': 'Flour', 'pr': 1923, 'qn': 120},\n",
              " '1014': {'name': 'Santoor soap', 'pr': 18, 'qn': 110},\n",
              " '1015': {'name': 'Lux soap', 'pr': 169, 'qn': 130},\n",
              " '1016': {'name': 'Neem soap', 'pr': 189, 'qn': 120},\n",
              " '1017': {'name': 'Green dal soap', 'pr': 199, 'qn': 1},\n",
              " '1018': {'name': 'Chilli powder', 'pr': 10, 'qn': 1},\n",
              " '1019': {'name': 'Lays', 'pr': 88, 'qn': 8},\n",
              " '1020': {'name': 'Kukure', 'pr': 889, 'qn': 90},\n",
              " '1021': {'name': 'Chik shampoo', 'pr': 1799, 'qn': 99},\n",
              " '1022': {'name': 'Dove shampoo', 'pr': 1679, 'qn': 10},\n",
              " '1023': {'name': 'Lemon rice powder', 'pr': 1779, 'qn': 9},\n",
              " '1024': {'name': 'Sunsilk', 'pr': 1999, 'qn': 33},\n",
              " '1025': {'name': 'cashew nut', 'pr': 134, 'qn': 5},\n",
              " '1026': {'name': 'badam', 'pr': 132, 'qn': 3},\n",
              " '1027': {'name': 'Pista', 'pr': 134, 'qn': 9},\n",
              " '1028': {'name': 'Pasta', 'pr': 198, 'qn': 3},\n",
              " '1029': {'name': 'soft drinks', 'pr': 197, 'qn': 3},\n",
              " '1030': {'name': 'Chocolate pack', 'pr': 199, 'qn': 1},\n",
              " '1032': {'name': '5-star', 'pr': 5, 'qn': 10}}"
            ]
          },
          "metadata": {},
          "execution_count": 7
        }
      ]
    },
    {
      "cell_type": "code",
      "metadata": {
        "colab": {
          "base_uri": "https://localhost:8080/"
        },
        "id": "uQ22jqjY6Q-7",
        "outputId": "3f22ef17-a9b6-4a15-a011-73660ee4b19c"
      },
      "source": [
        "#purcase\n",
        "ui_prod=str(input(\"enter product id\"))\n",
        "ui_quant=int(input(\"enter the quantity\"))\n",
        "print(\"Product\",record[ui_prod] ['name'])\n",
        "print(\"Product\",record[ui_prod]['pr'])\n",
        "print(\"Billing Amount: \", record[ui_prod]['pr']*ui_quant)\n",
        "record[ui_prod]['qn']=record[ui_prod]['qn'] - ui_quant"
      ],
      "execution_count": 8,
      "outputs": [
        {
          "output_type": "stream",
          "name": "stdout",
          "text": [
            "enter product id1002\n",
            "enter the quantity10\n",
            "Product teapowder\n",
            "Product 800\n",
            "Billing Amount:  8000\n"
          ]
        }
      ]
    },
    {
      "cell_type": "code",
      "metadata": {
        "id": "LNPHyvA46jBr"
      },
      "source": [
        "\n",
        "record[ui_prod]['qn'] = record[ui_prod]['qn'] - ui_quant"
      ],
      "execution_count": 9,
      "outputs": []
    },
    {
      "cell_type": "code",
      "metadata": {
        "colab": {
          "base_uri": "https://localhost:8080/"
        },
        "id": "uCxXbUqd6mxW",
        "outputId": "961b8232-617c-41b3-a1c4-0917a19345f2"
      },
      "source": [
        "record"
      ],
      "execution_count": 10,
      "outputs": [
        {
          "output_type": "execute_result",
          "data": {
            "text/plain": [
              "{'1001': {'name': 'sugar', 'pr': 100, 'qn': 34},\n",
              " '1002': {'name': 'teapowder', 'pr': 800, 'qn': 80},\n",
              " '1003': {'name': 'Dal', 'pr': 85, 'qn': 100},\n",
              " '1004': {'name': 'Moog', 'pr': 5, 'qn': 1000},\n",
              " '1005': {'name': 'wheat', 'pr': 20, 'qn': 100},\n",
              " '1006': {'name': 'paddy', 'pr': 50000, 'qn': 10},\n",
              " '1007': {'name': 'Jowar', 'pr': 1500, 'qn': 110},\n",
              " '1008': {'name': 'Agarbatti', 'pr': 599, 'qn': 5},\n",
              " '1009': {'name': 'rin soap', 'pr': 18, 'qn': 10},\n",
              " '1010': {'name': 'powder', 'pr': 133, 'qn': 9},\n",
              " '1011': {'name': 'pickle', 'pr': 189, 'qn': 7},\n",
              " '1012': {'name': 'brush', 'pr': 139, 'qn': 22},\n",
              " '1013': {'name': 'Flour', 'pr': 1923, 'qn': 120},\n",
              " '1014': {'name': 'Santoor soap', 'pr': 18, 'qn': 110},\n",
              " '1015': {'name': 'Lux soap', 'pr': 169, 'qn': 130},\n",
              " '1016': {'name': 'Neem soap', 'pr': 189, 'qn': 120},\n",
              " '1017': {'name': 'Green dal soap', 'pr': 199, 'qn': 1},\n",
              " '1018': {'name': 'Chilli powder', 'pr': 10, 'qn': 1},\n",
              " '1019': {'name': 'Lays', 'pr': 88, 'qn': 8},\n",
              " '1020': {'name': 'Kukure', 'pr': 889, 'qn': 90},\n",
              " '1021': {'name': 'Chik shampoo', 'pr': 1799, 'qn': 99},\n",
              " '1022': {'name': 'Dove shampoo', 'pr': 1679, 'qn': 10},\n",
              " '1023': {'name': 'Lemon rice powder', 'pr': 1779, 'qn': 9},\n",
              " '1024': {'name': 'Sunsilk', 'pr': 1999, 'qn': 33},\n",
              " '1025': {'name': 'cashew nut', 'pr': 134, 'qn': 5},\n",
              " '1026': {'name': 'badam', 'pr': 132, 'qn': 3},\n",
              " '1027': {'name': 'Pista', 'pr': 134, 'qn': 9},\n",
              " '1028': {'name': 'Pasta', 'pr': 198, 'qn': 3},\n",
              " '1029': {'name': 'soft drinks', 'pr': 197, 'qn': 3},\n",
              " '1030': {'name': 'Chocolate pack', 'pr': 199, 'qn': 1},\n",
              " '1032': {'name': '5-star', 'pr': 5, 'qn': 10}}"
            ]
          },
          "metadata": {},
          "execution_count": 10
        }
      ]
    },
    {
      "cell_type": "code",
      "metadata": {
        "colab": {
          "base_uri": "https://localhost:8080/"
        },
        "id": "GYCB8Cy96xN4",
        "outputId": "bc115996-134b-4587-ab6e-4cbfd709050c"
      },
      "source": [
        "js= json.dumps(record)\n",
        "fd=open(\"record.json\",'w')\n",
        "fd.write(js)\n",
        "fd.close"
      ],
      "execution_count": 11,
      "outputs": [
        {
          "output_type": "execute_result",
          "data": {
            "text/plain": [
              "<function TextIOWrapper.close>"
            ]
          },
          "metadata": {},
          "execution_count": 11
        }
      ]
    },
    {
      "cell_type": "code",
      "metadata": {
        "colab": {
          "base_uri": "https://localhost:8080/"
        },
        "id": "7mNQCBa965pJ",
        "outputId": "5d955868-2041-45c6-bfa8-b4bebdf87612"
      },
      "source": [
        "{'prod':ui_prod,'qn':ui_quant,'amount':record[ui_prod]['pr']*ui_quant}"
      ],
      "execution_count": 12,
      "outputs": [
        {
          "output_type": "execute_result",
          "data": {
            "text/plain": [
              "{'amount': 8000, 'prod': '1002', 'qn': 10}"
            ]
          },
          "metadata": {},
          "execution_count": 12
        }
      ]
    },
    {
      "cell_type": "code",
      "metadata": {
        "id": "IAHaRMmn7ChF"
      },
      "source": [
        "sales={1:{'prod':ui_prod,'qn': ui_quant, 'amount':record[ui_prod]['pr']*ui_quant},\n",
        "       2:{'prod':ui_prod, 'qn': ui_quant, 'amount':record[ui_prod]['pr']*ui_quant},\n",
        "       3:{'prod':ui_prod, 'qn': ui_quant, 'amount':record[ui_prod]['pr']*ui_quant}}"
      ],
      "execution_count": 13,
      "outputs": []
    },
    {
      "cell_type": "code",
      "metadata": {
        "id": "87AB59NL7FGm"
      },
      "source": [
        "sale=json.dumps(sales)"
      ],
      "execution_count": 14,
      "outputs": []
    },
    {
      "cell_type": "code",
      "metadata": {
        "colab": {
          "base_uri": "https://localhost:8080/"
        },
        "id": "BOdb96qE7LxQ",
        "outputId": "f57b303e-9eb8-41ff-ac1f-b245ca9dd3a0"
      },
      "source": [
        "{(len(sales)+1):{'prod':ui_prod,'qn': ui_quant, 'amount':record[ui_prod]['pr']*ui_quant}}"
      ],
      "execution_count": 15,
      "outputs": [
        {
          "output_type": "execute_result",
          "data": {
            "text/plain": [
              "{4: {'amount': 8000, 'prod': '1002', 'qn': 10}}"
            ]
          },
          "metadata": {},
          "execution_count": 15
        }
      ]
    },
    {
      "cell_type": "code",
      "metadata": {
        "colab": {
          "base_uri": "https://localhost:8080/"
        },
        "id": "vlQ7q0wD7Tox",
        "outputId": "10b21694-4953-4c8a-e4a8-ce97205afbce"
      },
      "source": [
        "sales"
      ],
      "execution_count": 16,
      "outputs": [
        {
          "output_type": "execute_result",
          "data": {
            "text/plain": [
              "{1: {'amount': 8000, 'prod': '1002', 'qn': 10},\n",
              " 2: {'amount': 8000, 'prod': '1002', 'qn': 10},\n",
              " 3: {'amount': 8000, 'prod': '1002', 'qn': 10}}"
            ]
          },
          "metadata": {},
          "execution_count": 16
        }
      ]
    }
  ]
}